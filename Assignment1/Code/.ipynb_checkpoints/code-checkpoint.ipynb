{
 "cells": [
  {
   "cell_type": "code",
   "execution_count": 1,
   "metadata": {},
   "outputs": [],
   "source": [
    "import pandas as pd\n",
    "import cv2\n",
    "import numpy as np\n",
    "import matplotlib.pyplot as plt"
   ]
  },
  {
   "cell_type": "code",
   "execution_count": 6,
   "metadata": {},
   "outputs": [],
   "source": [
    "lemon_color= cv2.imread(\"C:/Users/hp/Desktop/2nd Semester/Big Data And Machine Learning/Assignment1/image0.jpg\")\n",
    "orange_color= cv2.imread(\"C:/Users/hp/Desktop/2nd Semester/Big Data And Machine Learning/Assignment1/image1.jpg\")"
   ]
  },
  {
   "cell_type": "code",
   "execution_count": 7,
   "metadata": {},
   "outputs": [
    {
     "data": {
      "text/plain": [
       "array([[[157, 174, 207],\n",
       "        [153, 172, 205],\n",
       "        [145, 170, 202],\n",
       "        ...,\n",
       "        [101, 208, 152],\n",
       "        [ 96, 203, 146],\n",
       "        [ 87, 195, 136]],\n",
       "\n",
       "       [[156, 175, 208],\n",
       "        [154, 175, 207],\n",
       "        [147, 175, 206],\n",
       "        ...,\n",
       "        [107, 214, 157],\n",
       "        [102, 210, 151],\n",
       "        [ 90, 199, 137]],\n",
       "\n",
       "       [[151, 173, 208],\n",
       "        [150, 175, 209],\n",
       "        [145, 176, 209],\n",
       "        ...,\n",
       "        [113, 217, 156],\n",
       "        [105, 210, 147],\n",
       "        [ 96, 201, 138]],\n",
       "\n",
       "       ...,\n",
       "\n",
       "       [[ 17, 154, 100],\n",
       "        [ 17, 154, 100],\n",
       "        [ 17, 154, 100],\n",
       "        ...,\n",
       "        [ 61, 157, 133],\n",
       "        [ 61, 157, 133],\n",
       "        [ 59, 155, 131]],\n",
       "\n",
       "       [[ 16, 153,  97],\n",
       "        [ 16, 153,  97],\n",
       "        [ 15, 154,  97],\n",
       "        ...,\n",
       "        [ 56, 152, 128],\n",
       "        [ 57, 153, 129],\n",
       "        [ 56, 152, 128]],\n",
       "\n",
       "       [[ 16, 153,  97],\n",
       "        [ 15, 152,  96],\n",
       "        [ 14, 153,  96],\n",
       "        ...,\n",
       "        [ 54, 150, 126],\n",
       "        [ 55, 151, 127],\n",
       "        [ 58, 154, 130]]], dtype=uint8)"
      ]
     },
     "execution_count": 7,
     "metadata": {},
     "output_type": "execute_result"
    }
   ],
   "source": [
    "lemon_color"
   ]
  },
  {
   "cell_type": "code",
   "execution_count": 8,
   "metadata": {},
   "outputs": [
    {
     "data": {
      "text/plain": [
       "array([[[ 15, 105, 193],\n",
       "        [ 13, 103, 191],\n",
       "        [ 13, 103, 191],\n",
       "        ...,\n",
       "        [  3,  88, 144],\n",
       "        [  4,  88, 146],\n",
       "        [  3,  87, 145]],\n",
       "\n",
       "       [[ 14, 104, 192],\n",
       "        [ 14, 104, 192],\n",
       "        [ 14, 104, 192],\n",
       "        ...,\n",
       "        [  3,  88, 144],\n",
       "        [  4,  88, 146],\n",
       "        [  3,  87, 145]],\n",
       "\n",
       "       [[ 12, 102, 190],\n",
       "        [ 14, 104, 192],\n",
       "        [ 14, 104, 192],\n",
       "        ...,\n",
       "        [  4,  89, 145],\n",
       "        [  4,  88, 146],\n",
       "        [  2,  86, 144]],\n",
       "\n",
       "       ...,\n",
       "\n",
       "       [[  0, 107, 170],\n",
       "        [  0, 107, 170],\n",
       "        [  0, 111, 174],\n",
       "        ...,\n",
       "        [  0,  90, 184],\n",
       "        [  0,  88, 182],\n",
       "        [  0,  85, 179]],\n",
       "\n",
       "       [[  0, 110, 172],\n",
       "        [  0, 109, 171],\n",
       "        [  0, 113, 175],\n",
       "        ...,\n",
       "        [  1,  91, 185],\n",
       "        [  0,  88, 182],\n",
       "        [  0,  86, 180]],\n",
       "\n",
       "       [[  1, 114, 176],\n",
       "        [  0, 113, 175],\n",
       "        [  2, 115, 177],\n",
       "        ...,\n",
       "        [  0,  89, 183],\n",
       "        [  0,  87, 181],\n",
       "        [  0,  85, 179]]], dtype=uint8)"
      ]
     },
     "execution_count": 8,
     "metadata": {},
     "output_type": "execute_result"
    }
   ],
   "source": [
    "orange_color"
   ]
  },
  {
   "cell_type": "code",
   "execution_count": null,
   "metadata": {},
   "outputs": [],
   "source": []
  }
 ],
 "metadata": {
  "kernelspec": {
   "display_name": "Python 3 (ipykernel)",
   "language": "python",
   "name": "python3"
  },
  "language_info": {
   "codemirror_mode": {
    "name": "ipython",
    "version": 3
   },
   "file_extension": ".py",
   "mimetype": "text/x-python",
   "name": "python",
   "nbconvert_exporter": "python",
   "pygments_lexer": "ipython3",
   "version": "3.9.7"
  },
  "vscode": {
   "interpreter": {
    "hash": "63963b3f4c440940f0b94a3100916033a226cb4f45979123153792d60aa56d6a"
   }
  }
 },
 "nbformat": 4,
 "nbformat_minor": 2
}
